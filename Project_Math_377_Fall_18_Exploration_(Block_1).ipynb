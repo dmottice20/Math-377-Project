{
 "cells": [
  {
   "cell_type": "markdown",
   "metadata": {
    "colab_type": "text",
    "id": "FHj_4ks_O3UM"
   },
   "source": [
    "# Math 377 Fall 2018\n",
    "\n",
    "#### Name: C2C David Mottice\n",
    "#### Section: M2 - Lt Col Horton"
   ]
  },
  {
   "cell_type": "markdown",
   "metadata": {
    "colab_type": "text",
    "id": "2P4Y0MpTO3UO"
   },
   "source": [
    "**Documentation Statement:** C2C Rao Abdul Hanaan - helped me with the final words append in the token function. This helped considerably reduce my number of spam words and be closer to the actual number that is asked for in the prompt."
   ]
  },
  {
   "cell_type": "markdown",
   "metadata": {
    "colab_type": "text",
    "id": "4q7ZVLkRO3UQ"
   },
   "source": [
    "# Project: Predicting Spam\n",
    "### Data Collection, Summarization, Inference and Prediction\n",
    "\n",
    "<img style=\"float: right;\" src=\"img\\spam3.jpg\">\n",
    "This project is designed to cover many of the main ideas of the entire course. Ultimately we want to predict if an email is spam. In the course of doing this, we will collect data, clean it up, work with string data, make a simple inference, and then build a naive bayes model from the ground up. \n",
    "\n",
    "\n",
    "By the end of project, you should know how to:\n",
    "\n",
    "1. Find and import data.\n",
    "2. Use regular expressions to edit string data.\n",
    "3. Determine if a word helps to identify an email as spam or not.\n",
    "4. Create a function to predict the type of email using the ideas of Bayesian Classification.\n",
    "5. Assess your model and propose improvements.\n",
    "\n",
    "**Advice.** Develop your answers incrementally. To perform a complicated table manipulation, break it up into steps, perform each step on a different line, give a new name to each result, and check that each intermediate result is what you expect by displaying it. You can add additional names or functions to the provided cells in order to organize your work. \n",
    "\n",
    "**Authorized Resources:** Anyone and anything."
   ]
  },
  {
   "cell_type": "markdown",
   "metadata": {
    "colab_type": "text",
    "id": "3gYBRexAO3US"
   },
   "source": [
    "### 0. Notebook Setup  \n",
    "\n",
    "Create a folder on your local drive and place this notebook in it. Create a subfolder called `data` copy the file `subject_lines.csv` into it from our Google drive. Create another subfolder called `img` and copy `spam3.jpg` into it, this file can also be found on the Google drive."
   ]
  },
  {
   "cell_type": "markdown",
   "metadata": {
    "colab_type": "text",
    "id": "fhHkPoIhO3UT"
   },
   "source": [
    "### 1. Background Information \n",
    "\n",
    "There are a couple of reference papers that may be of interest to explore. The first is \"Better Bayesian Filtering\" by Paul Graham,http://bit.ly/1ycPbiy. The second is \"A Plan for Spam\" also by Paul Graham, http://bit.ly/1ycPcmA"
   ]
  },
  {
   "cell_type": "markdown",
   "metadata": {
    "colab_type": "text",
    "id": "Nw_h0xIcO3UU"
   },
   "source": [
    "### 2. Load Packages  \n",
    "\n",
    "To get started, load `datascience`, `numpy`, `mathplotlib.pyplot`, `math`, `re`, and `pandas`."
   ]
  },
  {
   "cell_type": "code",
   "execution_count": 1,
   "metadata": {
    "colab": {},
    "colab_type": "code",
    "id": "_CqSg1EuO3UW"
   },
   "outputs": [],
   "source": [
    "# Execute this line as written\n",
    "import datascience as ds #note the labs use from datascience import * but this is not a good practice\n",
    "import numpy as np\n",
    "import pandas as pd\n",
    "import re\n",
    "import math\n",
    "%matplotlib inline\n",
    "import matplotlib.pyplot as plots\n",
    "plots.style.use('fivethirtyeight')"
   ]
  },
  {
   "cell_type": "markdown",
   "metadata": {
    "colab_type": "text",
    "id": "Er0PzSQvO3Ub"
   },
   "source": [
    "### 3. Get Data\n",
    "\n",
    "We are going to use data from the [Apache SpamAssasian](https://spamassassin.apache.org/) website. In particular we want data from their public corpus; see the readme document at https://spamassassin.apache.org/old/publiccorpus/.\n",
    "\n",
    "We have provided you with a csv file that contains two columns. The first is the subject line and the second is whether the email is spam."
   ]
  },
  {
   "cell_type": "markdown",
   "metadata": {
    "colab_type": "text",
    "id": "ZzwN9HhhO3Uc"
   },
   "source": [
    "Read in the data. It can be found on the Google drive with the name `subject_lines.csv`. Don't forget that you have imported the `datascience` package under the alias `ds`. "
   ]
  },
  {
   "cell_type": "code",
   "execution_count": 2,
   "metadata": {
    "colab": {},
    "colab_type": "code",
    "id": "_dsnTGNlO3Uc"
   },
   "outputs": [
    {
     "data": {
      "text/html": [
       "<table border=\"1\" class=\"dataframe\">\n",
       "    <thead>\n",
       "        <tr>\n",
       "            <th>Subject Line</th> <th>Spam</th>\n",
       "        </tr>\n",
       "    </thead>\n",
       "    <tbody>\n",
       "        <tr>\n",
       "            <td>Re: New Sequences Window                       </td> <td>False</td>\n",
       "        </tr>\n",
       "        <tr>\n",
       "            <td>[zzzzteana] RE: Alexander                      </td> <td>False</td>\n",
       "        </tr>\n",
       "        <tr>\n",
       "            <td>[zzzzteana] Moscow bomber                      </td> <td>False</td>\n",
       "        </tr>\n",
       "        <tr>\n",
       "            <td>[IRR] Klez: The Virus That  Won't Die          </td> <td>False</td>\n",
       "        </tr>\n",
       "        <tr>\n",
       "            <td>Re: Insert signature                           </td> <td>False</td>\n",
       "        </tr>\n",
       "        <tr>\n",
       "            <td>Re: [zzzzteana] Nothing like mama used to make </td> <td>False</td>\n",
       "        </tr>\n",
       "        <tr>\n",
       "            <td>Re: [zzzzteana] Nothing like mama used to make </td> <td>False</td>\n",
       "        </tr>\n",
       "        <tr>\n",
       "            <td>[zzzzteana] Playboy wants to go out with a bang</td> <td>False</td>\n",
       "        </tr>\n",
       "        <tr>\n",
       "            <td>Re: [zzzzteana] Nothing like mama used to make </td> <td>False</td>\n",
       "        </tr>\n",
       "        <tr>\n",
       "            <td>[zzzzteana] Meaningful sentences               </td> <td>False</td>\n",
       "        </tr>\n",
       "    </tbody>\n",
       "</table>\n",
       "<p>... (3290 rows omitted)</p>"
      ],
      "text/plain": [
       "Subject Line                                    | Spam\n",
       "Re: New Sequences Window                        | False\n",
       "[zzzzteana] RE: Alexander                       | False\n",
       "[zzzzteana] Moscow bomber                       | False\n",
       "[IRR] Klez: The Virus That  Won't Die           | False\n",
       "Re: Insert signature                            | False\n",
       "Re: [zzzzteana] Nothing like mama used to make  | False\n",
       "Re: [zzzzteana] Nothing like mama used to make  | False\n",
       "[zzzzteana] Playboy wants to go out with a bang | False\n",
       "Re: [zzzzteana] Nothing like mama used to make  | False\n",
       "[zzzzteana] Meaningful sentences                | False\n",
       "... (3290 rows omitted)"
      ]
     },
     "execution_count": 2,
     "metadata": {},
     "output_type": "execute_result"
    }
   ],
   "source": [
    "# Complete the code to read in the data\n",
    "path_data = \"C:\\\\Users\\C20David.Mottice\\Documents\\Math 377\\Math 377 Project\\data\\\\\"\n",
    "Spam_data_table = ds.Table.read_table(path_data + 'subject_lines.csv')\n",
    "Spam_data_table"
   ]
  },
  {
   "cell_type": "markdown",
   "metadata": {
    "colab_type": "text",
    "id": "MspQBJKNO3Ue"
   },
   "source": [
    "Let's get a count of the emails. Use the group command to get a count of spam and ham emails."
   ]
  },
  {
   "cell_type": "code",
   "execution_count": 3,
   "metadata": {
    "colab": {},
    "colab_type": "code",
    "id": "t1_gkN4fO3Uf"
   },
   "outputs": [
    {
     "data": {
      "text/html": [
       "<table border=\"1\" class=\"dataframe\">\n",
       "    <thead>\n",
       "        <tr>\n",
       "            <th>Spam</th> <th>count</th>\n",
       "        </tr>\n",
       "    </thead>\n",
       "    <tbody>\n",
       "        <tr>\n",
       "            <td>False</td> <td>2800 </td>\n",
       "        </tr>\n",
       "        <tr>\n",
       "            <td>True </td> <td>500  </td>\n",
       "        </tr>\n",
       "    </tbody>\n",
       "</table>"
      ],
      "text/plain": [
       "Spam  | count\n",
       "False | 2800\n",
       "True  | 500"
      ]
     },
     "execution_count": 3,
     "metadata": {},
     "output_type": "execute_result"
    }
   ],
   "source": [
    "# Complete the code\n",
    "Spam_data_table.group('Spam')"
   ]
  },
  {
   "cell_type": "markdown",
   "metadata": {
    "colab_type": "text",
    "id": "TQO63Ot4O3Ui"
   },
   "source": [
    "### 4. Feature Engineering  \n",
    "\n",
    "We are dealing with string data as our predictor. We first need to clean it up. The choices we make here will potentially have a big impact on the quality of the model. Ideally we would go back and test the sensitivity of our results to these choices.\n",
    "\n",
    "First we will make all the text lower case. This will ensure that words such as Free and free are viewed as equivalent. This may not be a good idea for spam detection as a word in all capital letters might be more indicative of spam.  \n",
    "\n",
    "We will be dealing with frequencies in this project but we could also try other ideas such as vector encoding and $n$-grams."
   ]
  },
  {
   "cell_type": "markdown",
   "metadata": {
    "colab_type": "text",
    "id": "WubwFKW3O3Uj"
   },
   "source": [
    "#### Clean Data\n",
    "\n",
    "We will first get the subject lines in a standard format with lower cases, no punctuation, and the removal of stopwords."
   ]
  },
  {
   "cell_type": "code",
   "execution_count": 4,
   "metadata": {
    "colab": {},
    "colab_type": "code",
    "id": "DS3TkkX4O3Uk"
   },
   "outputs": [
    {
     "data": {
      "text/plain": [
       "'free'"
      ]
     },
     "execution_count": 4,
     "metadata": {},
     "output_type": "execute_result"
    }
   ],
   "source": [
    "# Example of the function we need. Execute this line\n",
    "'FREE'.lower()"
   ]
  },
  {
   "cell_type": "markdown",
   "metadata": {
    "colab_type": "text",
    "id": "mvTs3jlLO3Um"
   },
   "source": [
    "Next, we need to tokenize our string. This means to split the string into a list of words. This requires the use of regular expressions, https://docs.python.org/2/library/re.html. \n",
    "\n",
    "We will also need to remove stop words. Stop words are common words such as `and` or `we`, that add little predictive ability. We will load the natural langauge tool kit package, `nltk`, to get a list of stop words. If you are having trouble loading the `nltk` package we also provide the stop words as a csv file."
   ]
  },
  {
   "cell_type": "markdown",
   "metadata": {
    "colab_type": "text",
    "id": "Kt3sGbj7O3Un"
   },
   "source": [
    "#### Using nltk package, the preferred method"
   ]
  },
  {
   "cell_type": "code",
   "execution_count": 5,
   "metadata": {
    "colab": {},
    "colab_type": "code",
    "id": "UxX3iogmO3Uo"
   },
   "outputs": [
    {
     "name": "stdout",
     "output_type": "stream",
     "text": [
      "[nltk_data] Downloading package stopwords to\n",
      "[nltk_data]     C:\\Users\\C20David.Mottice\\AppData\\Roaming\\nltk_data...\n",
      "[nltk_data]   Package stopwords is already up-to-date!\n",
      "['i', 'me', 'my', 'myself', 'we', 'our', 'ours', 'ourselves']\n"
     ]
    }
   ],
   "source": [
    "# Execute the following commands\n",
    "import nltk\n",
    "\n",
    "nltk.download('stopwords')\n",
    "\n",
    "# Getting the English stop words from nltk\n",
    "stop_words = nltk.corpus.stopwords.words('english')\n",
    "\n",
    "# Printing out the first eight stop words\n",
    "print(stop_words[:8])\n",
    "\n",
    "#We will convert our stopwords to a set as set lookup is much faster\n",
    "\n",
    "stop_words = set(stop_words)"
   ]
  },
  {
   "cell_type": "markdown",
   "metadata": {
    "colab_type": "text",
    "id": "Ax07h7zzO3Ur"
   },
   "source": [
    "#### Using a csv file, the backup method"
   ]
  },
  {
   "cell_type": "code",
   "execution_count": 6,
   "metadata": {
    "colab": {},
    "colab_type": "code",
    "id": "GdGr2fHWO3Us"
   },
   "outputs": [],
   "source": [
    "stop_words = set(pd.read_csv(path_data + 'stop_words.csv')[\"stopwords\"].tolist())"
   ]
  },
  {
   "cell_type": "markdown",
   "metadata": {
    "colab_type": "text",
    "id": "Pv0eiZC8O3Uv"
   },
   "source": [
    "Strip off unwanted text from subject line"
   ]
  },
  {
   "cell_type": "code",
   "execution_count": 7,
   "metadata": {
    "colab": {},
    "colab_type": "code",
    "id": "sKeKASBkO3Uw"
   },
   "outputs": [
    {
     "name": "stdout",
     "output_type": "stream",
     "text": [
      "Subject Line                          | Spam\n",
      "Re: New Sequences Window              | False\n",
      "[zzzzteana] RE: Alexander             | False\n",
      "[zzzzteana] Moscow bomber             | False\n",
      "[IRR] Klez: The Virus That  Won't Die | False\n",
      "Re: Insert signature                  | False\n",
      "\n",
      "\n",
      "['re', 'new', 'sequences', 'window']\n",
      "['zzzzteana', 're', 'alexander']\n",
      "['zzzzteana', 'moscow', 'bomber']\n",
      "['irr', 'klez', 'the', 'virus', 'that', \"won't\", 'die']\n",
      "['re', 'insert', 'signature']\n"
     ]
    }
   ],
   "source": [
    "# Execute this line as is\n",
    "# Using data science table to demenostrate how to make lower case and keep only words and numbers\n",
    "print(Spam_data_table.take(np.arange(5)))\n",
    "print(\"\\n\")\n",
    "for subject in Spam_data_table.take(np.arange(5)).column(0):\n",
    "    print(re.findall(\"[a-z0-9']+\",subject.lower()))"
   ]
  },
  {
   "cell_type": "markdown",
   "metadata": {
    "colab_type": "text",
    "id": "G-Kb2nXYO3Uz"
   },
   "source": [
    "Let's remove the stop words and split the string into words. We will run some test code on the first 5 lines for illustration."
   ]
  },
  {
   "cell_type": "code",
   "execution_count": 8,
   "metadata": {
    "colab": {},
    "colab_type": "code",
    "id": "6eokBaPfO3U1"
   },
   "outputs": [
    {
     "name": "stdout",
     "output_type": "stream",
     "text": [
      "Original subject line:  Re: New Sequences Window\n",
      "Split line:  ['re', 'new', 'sequences', 'window']\n",
      "Clean line:  ['new', 'sequences', 'window']\n",
      "Original subject line:  [zzzzteana] RE: Alexander\n",
      "Split line:  ['zzzzteana', 're', 'alexander']\n",
      "Clean line:  ['zzzzteana', 'alexander']\n",
      "Original subject line:  [zzzzteana] Moscow bomber\n",
      "Split line:  ['zzzzteana', 'moscow', 'bomber']\n",
      "Clean line:  ['zzzzteana', 'moscow', 'bomber']\n",
      "Original subject line:  [IRR] Klez: The Virus That  Won't Die\n",
      "Split line:  ['irr', 'klez', 'the', 'virus', 'that', \"won't\", 'die']\n",
      "Clean line:  ['irr', 'klez', 'virus', 'die']\n",
      "Original subject line:  Re: Insert signature\n",
      "Split line:  ['re', 'insert', 'signature']\n",
      "Clean line:  ['insert', 'signature']\n"
     ]
    }
   ],
   "source": [
    "# Testing code, run this line of code\n",
    "for subject in Spam_data_table.take(np.arange(5)).column(0):\n",
    "    final_words = []\n",
    "    print(\"Original subject line: \",subject)\n",
    "    print(\"Split line: \",re.findall(\"[a-z0-9']+\",subject.lower()))\n",
    "    words = re.findall(\"[a-z0-9']+\",subject.lower())\n",
    "    [final_words.append(word) for word in words if word not in stop_words]\n",
    "    print(\"Clean line: \",final_words)"
   ]
  },
  {
   "cell_type": "markdown",
   "metadata": {
    "colab_type": "text",
    "id": "Yho9l7K-O3U3"
   },
   "source": [
    "#### Subject Line Frequency  \n",
    "\n",
    "Before going further with inference or prediction, let's summarize the data. We want to count the total number of times a word occurrs in a subject line separately in both the spam and ham data sets. We need to count the word once per subject line."
   ]
  },
  {
   "cell_type": "markdown",
   "metadata": {
    "colab_type": "text",
    "id": "na5KHaTuO3U4"
   },
   "source": [
    "Write a function to tokenize each subject line. This means reducing to lower case, removing stop words, and then splits into individual words. Use the code in the previous line as an example."
   ]
  },
  {
   "cell_type": "code",
   "execution_count": 32,
   "metadata": {
    "colab": {},
    "colab_type": "code",
    "id": "b9Wie7KFO3U4"
   },
   "outputs": [],
   "source": [
    "# Complete this function\n",
    "def token(subject,sw=stop_words):\n",
    "    final_words = []\n",
    "    words = re.findall(\"[a-z0-9']+\", subject.lower())\n",
    "    set([final_words.append(word) for word in words if word not in sw])\n",
    "    return final_words\n"
   ]
  },
  {
   "cell_type": "markdown",
   "metadata": {
    "colab_type": "text",
    "id": "Dysu4nhhO3U8"
   },
   "source": [
    "First let's run some code on a subset, the first 3 lines, of the data. We need to get the subject line column, tokenize it, and then flatten into a list instead of a list of lists."
   ]
  },
  {
   "cell_type": "code",
   "execution_count": 10,
   "metadata": {
    "colab": {},
    "colab_type": "code",
    "id": "uto7vyzbO3U-"
   },
   "outputs": [
    {
     "name": "stdout",
     "output_type": "stream",
     "text": [
      "List after using token:  [{'life', 'insurance', 'more', 'why', 'pay'}, {'lose', '12', '30', 'in', 'days', '206', 'ilug', 'guaranteed', 'lbs', 'to', '10'}, {'lose', '12', '30', 'in', '11', 'days', 'guaranteed', 'lbs', 'to', '10', '150'}] \n",
      "\n",
      "The flattened list:  ['life', 'insurance', 'more', 'why', 'pay', 'lose', '12', '30', 'in', 'days', '206', 'ilug', 'guaranteed', 'lbs', 'to', '10', 'lose', '12', '30', 'in', '11', 'days', 'guaranteed', 'lbs', 'to', '10', '150']\n"
     ]
    }
   ],
   "source": [
    "# Run this code\n",
    "# Get the first 5 subject lines for spam\n",
    "spam_subjects = Spam_data_table.where('Spam',True).take(np.arange(5)).column(0)\n",
    "#Tokenize and then append\n",
    "spam_words=[]\n",
    "for subject in spam_subjects[:3]:\n",
    "    spam_words.append(token(subject,stop_words))\n",
    "print(\"List after using token: \",spam_words,\"\\n\")\n",
    "#Create one long list of words\n",
    "spam_words = [item for sublist in spam_words for item in sublist]\n",
    "print(\"The flattened list: \",spam_words)"
   ]
  },
  {
   "cell_type": "markdown",
   "metadata": {
    "colab_type": "text",
    "id": "58OVbNxDO3VC"
   },
   "source": [
    "Now that you have created code to generate a list of spam words taken from the first 3 subject lines, copy and paste the above snippet and modify it below to go through ALL spam. Note that you should no longer print the lists. "
   ]
  },
  {
   "cell_type": "code",
   "execution_count": 33,
   "metadata": {
    "colab": {},
    "colab_type": "code",
    "id": "JlbyWyekO3VD"
   },
   "outputs": [],
   "source": [
    "#Get the subject lines for spam\n",
    "spam_subjects = Spam_data_table.where('Spam',True).column(0)\n",
    "#Tokenize and then append\n",
    "spam_words=[]\n",
    "for subject in spam_subjects:\n",
    "    spam_words.append(token(subject,stop_words))\n",
    "#Create one long list of words\n",
    "spam_words = [item for sublist in spam_words for item in sublist]"
   ]
  },
  {
   "cell_type": "markdown",
   "metadata": {
    "colab_type": "text",
    "id": "tN_viYFSO3VF"
   },
   "source": [
    "We can tokenize multiple subjects with the apply function."
   ]
  },
  {
   "cell_type": "code",
   "execution_count": 34,
   "metadata": {
    "colab": {},
    "colab_type": "code",
    "id": "nyTwtE8_O3VG"
   },
   "outputs": [
    {
     "data": {
      "text/html": [
       "<table border=\"1\" class=\"dataframe\">\n",
       "    <thead>\n",
       "        <tr>\n",
       "            <th>Subject Line</th> <th>Spam</th>\n",
       "        </tr>\n",
       "    </thead>\n",
       "    <tbody>\n",
       "        <tr>\n",
       "            <td>['new', 'sequences', 'window']   </td> <td>False</td>\n",
       "        </tr>\n",
       "        <tr>\n",
       "            <td>['zzzzteana', 'alexander']       </td> <td>False</td>\n",
       "        </tr>\n",
       "        <tr>\n",
       "            <td>['zzzzteana', 'moscow', 'bomber']</td> <td>False</td>\n",
       "        </tr>\n",
       "        <tr>\n",
       "            <td>['irr', 'klez', 'virus', 'die']  </td> <td>False</td>\n",
       "        </tr>\n",
       "        <tr>\n",
       "            <td>['insert', 'signature']          </td> <td>False</td>\n",
       "        </tr>\n",
       "    </tbody>\n",
       "</table>"
      ],
      "text/plain": [
       "Subject Line                      | Spam\n",
       "['new', 'sequences', 'window']    | False\n",
       "['zzzzteana', 'alexander']        | False\n",
       "['zzzzteana', 'moscow', 'bomber'] | False\n",
       "['irr', 'klez', 'virus', 'die']   | False\n",
       "['insert', 'signature']           | False"
      ]
     },
     "execution_count": 34,
     "metadata": {},
     "output_type": "execute_result"
    }
   ],
   "source": [
    "# Run code\n",
    "# Using apply function in datascience\n",
    "Spam_data_table.take(np.arange(5)).with_columns(\"Subject\",Spam_data_table.take(np.arange(5)).apply(token,\"Subject Line\")).\\\n",
    "drop(0).select(\"Subject\",\"Spam\").relabel(\"Subject\",\"Subject Line\")"
   ]
  },
  {
   "cell_type": "markdown",
   "metadata": {
    "colab_type": "text",
    "id": "zFn4A0zoO3VL"
   },
   "source": [
    "Using the snippet above as an example, tokenize all subjects from spam e-mails only."
   ]
  },
  {
   "cell_type": "code",
   "execution_count": 35,
   "metadata": {
    "colab": {},
    "colab_type": "code",
    "id": "69zv96qpO3VL"
   },
   "outputs": [
    {
     "data": {
      "text/html": [
       "<table border=\"1\" class=\"dataframe\">\n",
       "    <thead>\n",
       "        <tr>\n",
       "            <th>Subject Line</th> <th>Spam</th>\n",
       "        </tr>\n",
       "    </thead>\n",
       "    <tbody>\n",
       "        <tr>\n",
       "            <td>['life', 'insurance', 'pay']                                </td> <td>True</td>\n",
       "        </tr>\n",
       "        <tr>\n",
       "            <td>['ilug', 'guaranteed', 'lose', '10', '12', 'lbs', '30',  ...</td> <td>True</td>\n",
       "        </tr>\n",
       "        <tr>\n",
       "            <td>['guaranteed', 'lose', '10', '12', 'lbs', '30', 'days',  ...</td> <td>True</td>\n",
       "        </tr>\n",
       "        <tr>\n",
       "            <td>['fw', 'user', 'name', 'password', 'membership', '5', 's ...</td> <td>True</td>\n",
       "        </tr>\n",
       "        <tr>\n",
       "            <td>['ilug', 'social', 'guaranteed', 'lose', '10', '12', 'lb ...</td> <td>True</td>\n",
       "        </tr>\n",
       "        <tr>\n",
       "            <td>['bank', 'account', 'information']                          </td> <td>True</td>\n",
       "        </tr>\n",
       "        <tr>\n",
       "            <td>['fortune', '500', 'company', 'hiring', 'home', 'reps']     </td> <td>True</td>\n",
       "        </tr>\n",
       "        <tr>\n",
       "            <td>['family', 'protected']                                     </td> <td>True</td>\n",
       "        </tr>\n",
       "        <tr>\n",
       "            <td>['important', 'information', 'concerning', 'bank', 'acco ...</td> <td>True</td>\n",
       "        </tr>\n",
       "        <tr>\n",
       "            <td>['multiply', 'customer', 'base']                            </td> <td>True</td>\n",
       "        </tr>\n",
       "    </tbody>\n",
       "</table>\n",
       "<p>... (490 rows omitted)</p>"
      ],
      "text/plain": [
       "Subject Line                                                 | Spam\n",
       "['life', 'insurance', 'pay']                                 | True\n",
       "['ilug', 'guaranteed', 'lose', '10', '12', 'lbs', '30',  ... | True\n",
       "['guaranteed', 'lose', '10', '12', 'lbs', '30', 'days',  ... | True\n",
       "['fw', 'user', 'name', 'password', 'membership', '5', 's ... | True\n",
       "['ilug', 'social', 'guaranteed', 'lose', '10', '12', 'lb ... | True\n",
       "['bank', 'account', 'information']                           | True\n",
       "['fortune', '500', 'company', 'hiring', 'home', 'reps']      | True\n",
       "['family', 'protected']                                      | True\n",
       "['important', 'information', 'concerning', 'bank', 'acco ... | True\n",
       "['multiply', 'customer', 'base']                             | True\n",
       "... (490 rows omitted)"
      ]
     },
     "execution_count": 35,
     "metadata": {},
     "output_type": "execute_result"
    }
   ],
   "source": [
    "# Now for the entire table\n",
    "Spam_data_table_spamonly = Spam_data_table.where(1, True)\n",
    "Spam_data_table_token = Spam_data_table_spamonly.with_columns(\"Subject\",Spam_data_table_spamonly.apply(token,\"Subject Line\")).\\\n",
    "drop(0).select(\"Subject\",\"Spam\").relabel(\"Subject\",\"Subject Line\")\n",
    "Spam_data_table_token"
   ]
  },
  {
   "cell_type": "markdown",
   "metadata": {
    "colab_type": "text",
    "id": "Kq-OmBbCO3VS"
   },
   "source": [
    "Now that we've tokenized all of the spam e-mails, get the frequency of each of the words that appears in spam."
   ]
  },
  {
   "cell_type": "code",
   "execution_count": 36,
   "metadata": {
    "colab": {},
    "colab_type": "code",
    "id": "Zz3XqeDDO3VU"
   },
   "outputs": [
    {
     "data": {
      "text/html": [
       "<table border=\"1\" class=\"dataframe\">\n",
       "    <thead>\n",
       "        <tr>\n",
       "            <th>Spam Words</th> <th>Spam Count</th>\n",
       "        </tr>\n",
       "    </thead>\n",
       "    <tbody>\n",
       "        <tr>\n",
       "            <td>0         </td> <td>1         </td>\n",
       "        </tr>\n",
       "        <tr>\n",
       "            <td>00        </td> <td>1         </td>\n",
       "        </tr>\n",
       "        <tr>\n",
       "            <td>000       </td> <td>9         </td>\n",
       "        </tr>\n",
       "        <tr>\n",
       "            <td>000's     </td> <td>1         </td>\n",
       "        </tr>\n",
       "        <tr>\n",
       "            <td>02        </td> <td>1         </td>\n",
       "        </tr>\n",
       "    </tbody>\n",
       "</table>\n",
       "<p>... (1130 rows omitted)</p>"
      ],
      "text/plain": [
       "<IPython.core.display.HTML object>"
      ]
     },
     "metadata": {},
     "output_type": "display_data"
    }
   ],
   "source": [
    "# Get counts and frequency\n",
    "# Flatten first\n",
    "spam_words = [item for sublist in Spam_data_table_token.column(0) for item in sublist]\n",
    "# Put into a table\n",
    "spam_table = ds.Table().with_column('Spam Words',spam_words)\n",
    "spam_word_counts = spam_table.group('Spam Words').relabeled('count', 'Spam Count')\n",
    "spam_word_counts.show(5)"
   ]
  },
  {
   "cell_type": "code",
   "execution_count": 37,
   "metadata": {
    "colab": {},
    "colab_type": "code",
    "id": "SjAeOzH_O3VX"
   },
   "outputs": [
    {
     "name": "stdout",
     "output_type": "stream",
     "text": [
      "There are 1135 unique words in the tokenized spam subject lines.\n"
     ]
    }
   ],
   "source": [
    "print(\"There are\",spam_word_counts.num_rows,\"unique words in the tokenized spam subject lines.\")"
   ]
  },
  {
   "cell_type": "markdown",
   "metadata": {
    "colab_type": "text",
    "id": "nwAseHVFO3Vi"
   },
   "source": [
    "Next we want to create a column that has the subject line frequency of each word. This is the percentage of subject lines in the spam emails that contain the word of interest. We also sort the table from most frequent to least frequent."
   ]
  },
  {
   "cell_type": "code",
   "execution_count": 38,
   "metadata": {
    "colab": {},
    "colab_type": "code",
    "id": "eMxPLf6XO3Vi"
   },
   "outputs": [
    {
     "data": {
      "text/html": [
       "<table border=\"1\" class=\"dataframe\">\n",
       "    <thead>\n",
       "        <tr>\n",
       "            <th>Spam Words</th> <th>Spam Count</th> <th>Spam Subject Line Frequency</th>\n",
       "        </tr>\n",
       "    </thead>\n",
       "    <tbody>\n",
       "        <tr>\n",
       "            <td>0               </td> <td>1         </td> <td>0.0020                     </td>\n",
       "        </tr>\n",
       "        <tr>\n",
       "            <td>00              </td> <td>1         </td> <td>0.0020                     </td>\n",
       "        </tr>\n",
       "        <tr>\n",
       "            <td>000             </td> <td>9         </td> <td>0.0180                     </td>\n",
       "        </tr>\n",
       "        <tr>\n",
       "            <td>000's           </td> <td>1         </td> <td>0.0020                     </td>\n",
       "        </tr>\n",
       "        <tr>\n",
       "            <td>02              </td> <td>1         </td> <td>0.0020                     </td>\n",
       "        </tr>\n",
       "        <tr>\n",
       "            <td>05              </td> <td>1         </td> <td>0.0020                     </td>\n",
       "        </tr>\n",
       "        <tr>\n",
       "            <td>05775748        </td> <td>1         </td> <td>0.0020                     </td>\n",
       "        </tr>\n",
       "        <tr>\n",
       "            <td>057sxua1524uhkc5</td> <td>1         </td> <td>0.0020                     </td>\n",
       "        </tr>\n",
       "        <tr>\n",
       "            <td>08              </td> <td>1         </td> <td>0.0020                     </td>\n",
       "        </tr>\n",
       "        <tr>\n",
       "            <td>0989sqj         </td> <td>1         </td> <td>0.0020                     </td>\n",
       "        </tr>\n",
       "    </tbody>\n",
       "</table>\n",
       "<p>... (1125 rows omitted)</p>"
      ],
      "text/plain": [
       "Spam Words       | Spam Count | Spam Subject Line Frequency\n",
       "0                | 1          | 0.0020\n",
       "00               | 1          | 0.0020\n",
       "000              | 9          | 0.0180\n",
       "000's            | 1          | 0.0020\n",
       "02               | 1          | 0.0020\n",
       "05               | 1          | 0.0020\n",
       "05775748         | 1          | 0.0020\n",
       "057sxua1524uhkc5 | 1          | 0.0020\n",
       "08               | 1          | 0.0020\n",
       "0989sqj          | 1          | 0.0020\n",
       "... (1125 rows omitted)"
      ]
     },
     "execution_count": 38,
     "metadata": {},
     "output_type": "execute_result"
    }
   ],
   "source": [
    "# Execute this cell of code\n",
    "spam_word_counts = spam_word_counts.with_column('Spam Subject Line Frequency',spam_word_counts.column('Spam Count')/500).\\\n",
    "set_format(\"Spam Subject Line Frequency\", ds.NumberFormatter(decimals=4))\n",
    "spam_word_counts\n",
    "#spam_word_counts.where('Spam Words', ds.are.containing('ilug'))\n",
    "#which passes this test"
   ]
  },
  {
   "cell_type": "markdown",
   "metadata": {
    "colab_type": "text",
    "id": "lnbkI7AEO3Vm"
   },
   "source": [
    "To summarize, 9.2% of the subject lines in the spam emails contain the word `ilug`. As a reminder, the vocabulary of words in the spam subject line consists of 2408 words where 1135 are unique words."
   ]
  },
  {
   "cell_type": "code",
   "execution_count": 39,
   "metadata": {
    "colab": {},
    "colab_type": "code",
    "id": "_eC9FXVvO3Vn"
   },
   "outputs": [
    {
     "data": {
      "text/plain": [
       "1135"
      ]
     },
     "execution_count": 39,
     "metadata": {},
     "output_type": "execute_result"
    }
   ],
   "source": [
    "spam_word_counts.num_rows"
   ]
  },
  {
   "cell_type": "markdown",
   "metadata": {
    "colab_type": "text",
    "id": "uZwoh1C7O3Vq"
   },
   "source": [
    "Find the total of the spam word count column in `spam_word_counts`. "
   ]
  },
  {
   "cell_type": "code",
   "execution_count": 40,
   "metadata": {
    "colab": {},
    "colab_type": "code",
    "id": "hWvGFFQ1O3Vq"
   },
   "outputs": [
    {
     "data": {
      "text/plain": [
       "2428"
      ]
     },
     "execution_count": 40,
     "metadata": {},
     "output_type": "execute_result"
    }
   ],
   "source": [
    "sum_spam_word_counts = sum(spam_word_counts.column('Spam Count'))\n",
    "sum_spam_word_counts"
   ]
  },
  {
   "cell_type": "markdown",
   "metadata": {
    "colab_type": "text",
    "id": "TcmFPqTnO3Vu"
   },
   "source": [
    "Some of the words only occur once. Let's look at some of them."
   ]
  },
  {
   "cell_type": "code",
   "execution_count": 41,
   "metadata": {
    "colab": {},
    "colab_type": "code",
    "id": "pncGTmezO3Vu"
   },
   "outputs": [
    {
     "data": {
      "text/html": [
       "<table border=\"1\" class=\"dataframe\">\n",
       "    <thead>\n",
       "        <tr>\n",
       "            <th>Spam Words</th> <th>Spam Count</th> <th>Spam Subject Line Frequency</th>\n",
       "        </tr>\n",
       "    </thead>\n",
       "    <tbody>\n",
       "        <tr>\n",
       "            <td>0               </td> <td>1         </td> <td>0.0020                     </td>\n",
       "        </tr>\n",
       "        <tr>\n",
       "            <td>00              </td> <td>1         </td> <td>0.0020                     </td>\n",
       "        </tr>\n",
       "        <tr>\n",
       "            <td>000's           </td> <td>1         </td> <td>0.0020                     </td>\n",
       "        </tr>\n",
       "        <tr>\n",
       "            <td>02              </td> <td>1         </td> <td>0.0020                     </td>\n",
       "        </tr>\n",
       "        <tr>\n",
       "            <td>05              </td> <td>1         </td> <td>0.0020                     </td>\n",
       "        </tr>\n",
       "        <tr>\n",
       "            <td>05775748        </td> <td>1         </td> <td>0.0020                     </td>\n",
       "        </tr>\n",
       "        <tr>\n",
       "            <td>057sxua1524uhkc5</td> <td>1         </td> <td>0.0020                     </td>\n",
       "        </tr>\n",
       "        <tr>\n",
       "            <td>08              </td> <td>1         </td> <td>0.0020                     </td>\n",
       "        </tr>\n",
       "        <tr>\n",
       "            <td>0989sqj         </td> <td>1         </td> <td>0.0020                     </td>\n",
       "        </tr>\n",
       "        <tr>\n",
       "            <td>0rvn            </td> <td>1         </td> <td>0.0020                     </td>\n",
       "        </tr>\n",
       "    </tbody>\n",
       "</table>\n",
       "<p>... (714 rows omitted)</p>"
      ],
      "text/plain": [
       "Spam Words       | Spam Count | Spam Subject Line Frequency\n",
       "0                | 1          | 0.0020\n",
       "00               | 1          | 0.0020\n",
       "000's            | 1          | 0.0020\n",
       "02               | 1          | 0.0020\n",
       "05               | 1          | 0.0020\n",
       "05775748         | 1          | 0.0020\n",
       "057sxua1524uhkc5 | 1          | 0.0020\n",
       "08               | 1          | 0.0020\n",
       "0989sqj          | 1          | 0.0020\n",
       "0rvn             | 1          | 0.0020\n",
       "... (714 rows omitted)"
      ]
     },
     "execution_count": 41,
     "metadata": {},
     "output_type": "execute_result"
    }
   ],
   "source": [
    "# Create a table of words where the word only occurs once. There should be three columns, word, spam count and frequency.\n",
    "spam_word_one = spam_word_counts.where('Spam Count', ds.are.equal_to(1))\n",
    "spam_word_one"
   ]
  },
  {
   "cell_type": "markdown",
   "metadata": {
    "colab_type": "text",
    "id": "X7On_VthO3Vy"
   },
   "source": [
    "To visualize the results so far, we will use a bar chart. Create a bar chart showing the frequency of the 15 most frequent words that appear in spam subject lines."
   ]
  },
  {
   "cell_type": "code",
   "execution_count": 42,
   "metadata": {
    "colab": {},
    "colab_type": "code",
    "id": "ldLThtdvO3Vy"
   },
   "outputs": [
    {
     "data": {
      "image/png": "[encoded data removed]",
      "text/plain": [
       "<Figure size 432x540 with 1 Axes>"
      ]
     },
     "metadata": {},
     "output_type": "display_data"
    }
   ],
   "source": [
    "# Create a horizontal bar chart\n",
    "spam_most_freq_15 = spam_word_counts.sort('Spam Count', descending = True).take(np.arange(0,15))\n",
    "spam_most_freq_15.barh(0)"
   ]
  },
  {
   "cell_type": "markdown",
   "metadata": {
    "colab_type": "text",
    "id": "k8rMgmfPO3V0"
   },
   "source": [
    "### Ham e-mails"
   ]
  },
  {
   "cell_type": "markdown",
   "metadata": {
    "colab_type": "text",
    "id": "gcqqGwvGO3V2"
   },
   "source": [
    "Repeat this work for the ham e-mails. First, tokenize the ham subject lines."
   ]
  },
  {
   "cell_type": "code",
   "execution_count": 43,
   "metadata": {
    "colab": {},
    "colab_type": "code",
    "id": "VPgxBQJYO3V2"
   },
   "outputs": [
    {
     "data": {
      "text/html": [
       "<table border=\"1\" class=\"dataframe\">\n",
       "    <thead>\n",
       "        <tr>\n",
       "            <th>Subject Line</th> <th>Spam</th>\n",
       "        </tr>\n",
       "    </thead>\n",
       "    <tbody>\n",
       "        <tr>\n",
       "            <td>['new', 'sequences', 'window']                          </td> <td>False</td>\n",
       "        </tr>\n",
       "        <tr>\n",
       "            <td>['zzzzteana', 'alexander']                              </td> <td>False</td>\n",
       "        </tr>\n",
       "        <tr>\n",
       "            <td>['zzzzteana', 'moscow', 'bomber']                       </td> <td>False</td>\n",
       "        </tr>\n",
       "        <tr>\n",
       "            <td>['irr', 'klez', 'virus', 'die']                         </td> <td>False</td>\n",
       "        </tr>\n",
       "        <tr>\n",
       "            <td>['insert', 'signature']                                 </td> <td>False</td>\n",
       "        </tr>\n",
       "        <tr>\n",
       "            <td>['zzzzteana', 'nothing', 'like', 'mama', 'used', 'make']</td> <td>False</td>\n",
       "        </tr>\n",
       "        <tr>\n",
       "            <td>['zzzzteana', 'nothing', 'like', 'mama', 'used', 'make']</td> <td>False</td>\n",
       "        </tr>\n",
       "        <tr>\n",
       "            <td>['zzzzteana', 'playboy', 'wants', 'go', 'bang']         </td> <td>False</td>\n",
       "        </tr>\n",
       "        <tr>\n",
       "            <td>['zzzzteana', 'nothing', 'like', 'mama', 'used', 'make']</td> <td>False</td>\n",
       "        </tr>\n",
       "        <tr>\n",
       "            <td>['zzzzteana', 'meaningful', 'sentences']                </td> <td>False</td>\n",
       "        </tr>\n",
       "    </tbody>\n",
       "</table>\n",
       "<p>... (2790 rows omitted)</p>"
      ],
      "text/plain": [
       "Subject Line                                             | Spam\n",
       "['new', 'sequences', 'window']                           | False\n",
       "['zzzzteana', 'alexander']                               | False\n",
       "['zzzzteana', 'moscow', 'bomber']                        | False\n",
       "['irr', 'klez', 'virus', 'die']                          | False\n",
       "['insert', 'signature']                                  | False\n",
       "['zzzzteana', 'nothing', 'like', 'mama', 'used', 'make'] | False\n",
       "['zzzzteana', 'nothing', 'like', 'mama', 'used', 'make'] | False\n",
       "['zzzzteana', 'playboy', 'wants', 'go', 'bang']          | False\n",
       "['zzzzteana', 'nothing', 'like', 'mama', 'used', 'make'] | False\n",
       "['zzzzteana', 'meaningful', 'sentences']                 | False\n",
       "... (2790 rows omitted)"
      ]
     },
     "execution_count": 43,
     "metadata": {},
     "output_type": "execute_result"
    }
   ],
   "source": [
    "Ham_data_table_hamonly = Spam_data_table.where('Spam', False)\n",
    "Ham_data_table_token = Ham_data_table_hamonly.with_columns(\"Subject\",Ham_data_table_hamonly.apply(token,\"Subject Line\")).\\\n",
    "drop(0).select(\"Subject\",\"Spam\").relabel(\"Subject\",\"Subject Line\")\n",
    "Ham_data_table_token"
   ]
  },
  {
   "cell_type": "markdown",
   "metadata": {
    "colab_type": "text",
    "id": "SHVhgNrpO3V5"
   },
   "source": [
    "Find the word counts for words that appeared in ham subject lines."
   ]
  },
  {
   "cell_type": "code",
   "execution_count": 44,
   "metadata": {
    "colab": {},
    "colab_type": "code",
    "id": "QnBOp5VuO3V5"
   },
   "outputs": [
    {
     "data": {
      "text/html": [
       "<table border=\"1\" class=\"dataframe\">\n",
       "    <thead>\n",
       "        <tr>\n",
       "            <th>Ham Words</th> <th>Ham Count</th>\n",
       "        </tr>\n",
       "    </thead>\n",
       "    <tbody>\n",
       "        <tr>\n",
       "            <td>'apt      </td> <td>3        </td>\n",
       "        </tr>\n",
       "        <tr>\n",
       "            <td>'betrayal'</td> <td>1        </td>\n",
       "        </tr>\n",
       "        <tr>\n",
       "            <td>'boost    </td> <td>1        </td>\n",
       "        </tr>\n",
       "        <tr>\n",
       "            <td>'boosts   </td> <td>1        </td>\n",
       "        </tr>\n",
       "        <tr>\n",
       "            <td>'bust'    </td> <td>1        </td>\n",
       "        </tr>\n",
       "    </tbody>\n",
       "</table>\n",
       "<p>... (3722 rows omitted)</p>"
      ],
      "text/plain": [
       "<IPython.core.display.HTML object>"
      ]
     },
     "metadata": {},
     "output_type": "display_data"
    }
   ],
   "source": [
    "# Get counts and frequency\n",
    "# Flatten first\n",
    "ham_words = [item for sublist in Ham_data_table_token.column(0) for item in sublist]\n",
    "# Put into a table\n",
    "ham_table = ds.Table().with_column('Ham Words',ham_words)\n",
    "ham_word_counts = ham_table.group('Ham Words').relabeled('count', 'Ham Count')\n",
    "ham_word_counts.show(5)"
   ]
  },
  {
   "cell_type": "code",
   "execution_count": 45,
   "metadata": {
    "colab": {},
    "colab_type": "code",
    "id": "7Z6G7Zl-O3V8"
   },
   "outputs": [
    {
     "name": "stdout",
     "output_type": "stream",
     "text": [
      "There are 3727 unique words in the tokenized ham subject lines.\n"
     ]
    }
   ],
   "source": [
    "print(\"There are\",ham_word_counts.num_rows,\"unique words in the tokenized ham subject lines.\")"
   ]
  },
  {
   "cell_type": "code",
   "execution_count": 46,
   "metadata": {
    "colab": {},
    "colab_type": "code",
    "id": "QyflTY0xO3WB"
   },
   "outputs": [
    {
     "name": "stdout",
     "output_type": "stream",
     "text": [
      "There are 12386 tokenized words in the ham subject lines.\n"
     ]
    }
   ],
   "source": [
    "sum_ham_word_counts = sum(ham_word_counts.column('Ham Count'))\n",
    "print(\"There are\",sum_ham_word_counts,\"tokenized words in the ham subject lines.\")"
   ]
  },
  {
   "cell_type": "code",
   "execution_count": 47,
   "metadata": {
    "colab": {},
    "colab_type": "code",
    "id": "1JiO5FKyO3WE"
   },
   "outputs": [
    {
     "data": {
      "text/html": [
       "<table border=\"1\" class=\"dataframe\">\n",
       "    <thead>\n",
       "        <tr>\n",
       "            <th>Ham Words</th> <th>Ham Count</th> <th>Ham Subject Line Frequency</th>\n",
       "        </tr>\n",
       "    </thead>\n",
       "    <tbody>\n",
       "        <tr>\n",
       "            <td>'apt      </td> <td>3        </td> <td>0.0011                    </td>\n",
       "        </tr>\n",
       "        <tr>\n",
       "            <td>'betrayal'</td> <td>1        </td> <td>0.0004                    </td>\n",
       "        </tr>\n",
       "        <tr>\n",
       "            <td>'boost    </td> <td>1        </td> <td>0.0004                    </td>\n",
       "        </tr>\n",
       "        <tr>\n",
       "            <td>'boosts   </td> <td>1        </td> <td>0.0004                    </td>\n",
       "        </tr>\n",
       "        <tr>\n",
       "            <td>'bust'    </td> <td>1        </td> <td>0.0004                    </td>\n",
       "        </tr>\n",
       "        <tr>\n",
       "            <td>'cancer   </td> <td>1        </td> <td>0.0004                    </td>\n",
       "        </tr>\n",
       "        <tr>\n",
       "            <td>'could    </td> <td>1        </td> <td>0.0004                    </td>\n",
       "        </tr>\n",
       "        <tr>\n",
       "            <td>'em       </td> <td>1        </td> <td>0.0004                    </td>\n",
       "        </tr>\n",
       "        <tr>\n",
       "            <td>'face     </td> <td>1        </td> <td>0.0004                    </td>\n",
       "        </tr>\n",
       "        <tr>\n",
       "            <td>'flexible'</td> <td>1        </td> <td>0.0004                    </td>\n",
       "        </tr>\n",
       "    </tbody>\n",
       "</table>\n",
       "<p>... (3717 rows omitted)</p>"
      ],
      "text/plain": [
       "Ham Words  | Ham Count | Ham Subject Line Frequency\n",
       "'apt       | 3         | 0.0011\n",
       "'betrayal' | 1         | 0.0004\n",
       "'boost     | 1         | 0.0004\n",
       "'boosts    | 1         | 0.0004\n",
       "'bust'     | 1         | 0.0004\n",
       "'cancer    | 1         | 0.0004\n",
       "'could     | 1         | 0.0004\n",
       "'em        | 1         | 0.0004\n",
       "'face      | 1         | 0.0004\n",
       "'flexible' | 1         | 0.0004\n",
       "... (3717 rows omitted)"
      ]
     },
     "execution_count": 47,
     "metadata": {},
     "output_type": "execute_result"
    }
   ],
   "source": [
    "ham_word_counts = ham_word_counts.with_column('Ham Subject Line Frequency',ham_word_counts.column('Ham Count')/2800).\\\n",
    "set_format(\"Ham Subject Line Frequency\", ds.NumberFormatter(decimals=4))\n",
    "ham_word_counts"
   ]
  },
  {
   "cell_type": "markdown",
   "metadata": {
    "colab_type": "text",
    "id": "1lYxEm8xO3WG"
   },
   "source": [
    "Make a barplot showing the frequency of the 15 most frequent words that appear in ham subject lines. "
   ]
  },
  {
   "cell_type": "code",
   "execution_count": 48,
   "metadata": {
    "colab": {},
    "colab_type": "code",
    "id": "w0y2JlvtO3WG"
   },
   "outputs": [
    {
     "data": {
      "image/png": "[encoded data removed]",
      "text/plain": [
       "<Figure size 432x540 with 1 Axes>"
      ]
     },
     "metadata": {},
     "output_type": "display_data"
    }
   ],
   "source": [
    "ham_most_freq_15 = ham_word_counts.sort('Ham Count', descending = True).take(np.arange(0,15))\n",
    "ham_most_freq_15.barh(0)"
   ]
  },
  {
   "cell_type": "markdown",
   "metadata": {
    "colab_type": "text",
    "id": "_u8Dy_ZhO3WI"
   },
   "source": [
    "There are 12163 words in the ham email subject lines of which 3727 are unique. Which words appear only once?"
   ]
  },
  {
   "cell_type": "code",
   "execution_count": 49,
   "metadata": {
    "colab": {},
    "colab_type": "code",
    "id": "smATkqcSO3WI"
   },
   "outputs": [
    {
     "data": {
      "text/html": [
       "<table border=\"1\" class=\"dataframe\">\n",
       "    <thead>\n",
       "        <tr>\n",
       "            <th>Ham Words</th> <th>Ham Count</th> <th>Ham Subject Line Frequency</th>\n",
       "        </tr>\n",
       "    </thead>\n",
       "    <tbody>\n",
       "        <tr>\n",
       "            <td>'betrayal'</td> <td>1        </td> <td>0.0004                    </td>\n",
       "        </tr>\n",
       "        <tr>\n",
       "            <td>'boost    </td> <td>1        </td> <td>0.0004                    </td>\n",
       "        </tr>\n",
       "        <tr>\n",
       "            <td>'boosts   </td> <td>1        </td> <td>0.0004                    </td>\n",
       "        </tr>\n",
       "        <tr>\n",
       "            <td>'bust'    </td> <td>1        </td> <td>0.0004                    </td>\n",
       "        </tr>\n",
       "        <tr>\n",
       "            <td>'cancer   </td> <td>1        </td> <td>0.0004                    </td>\n",
       "        </tr>\n",
       "        <tr>\n",
       "            <td>'could    </td> <td>1        </td> <td>0.0004                    </td>\n",
       "        </tr>\n",
       "        <tr>\n",
       "            <td>'em       </td> <td>1        </td> <td>0.0004                    </td>\n",
       "        </tr>\n",
       "        <tr>\n",
       "            <td>'face     </td> <td>1        </td> <td>0.0004                    </td>\n",
       "        </tr>\n",
       "        <tr>\n",
       "            <td>'flexible'</td> <td>1        </td> <td>0.0004                    </td>\n",
       "        </tr>\n",
       "        <tr>\n",
       "            <td>'flipping'</td> <td>1        </td> <td>0.0004                    </td>\n",
       "        </tr>\n",
       "    </tbody>\n",
       "</table>\n",
       "<p>... (2135 rows omitted)</p>"
      ],
      "text/plain": [
       "Ham Words  | Ham Count | Ham Subject Line Frequency\n",
       "'betrayal' | 1         | 0.0004\n",
       "'boost     | 1         | 0.0004\n",
       "'boosts    | 1         | 0.0004\n",
       "'bust'     | 1         | 0.0004\n",
       "'cancer    | 1         | 0.0004\n",
       "'could     | 1         | 0.0004\n",
       "'em        | 1         | 0.0004\n",
       "'face      | 1         | 0.0004\n",
       "'flexible' | 1         | 0.0004\n",
       "'flipping' | 1         | 0.0004\n",
       "... (2135 rows omitted)"
      ]
     },
     "execution_count": 49,
     "metadata": {},
     "output_type": "execute_result"
    }
   ],
   "source": [
    "ham_word_one = ham_word_counts.where('Ham Count', ds.are.equal_to(1))\n",
    "ham_word_one"
   ]
  },
  {
   "cell_type": "markdown",
   "metadata": {
    "colab_type": "text",
    "id": "4A23SddeO3WK"
   },
   "source": [
    "As a reminder, in the spam subject line there are 1135 unique words while there are 3727 in the ham. When we merge these data sets there will only be partial overlap."
   ]
  },
  {
   "cell_type": "code",
   "execution_count": 50,
   "metadata": {
    "colab": {},
    "colab_type": "code",
    "id": "my0q2fCrO3WL"
   },
   "outputs": [
    {
     "data": {
      "text/plain": [
       "1135"
      ]
     },
     "execution_count": 50,
     "metadata": {},
     "output_type": "execute_result"
    }
   ],
   "source": [
    "spam_word_counts.num_rows #Number of unique words in spam subject lines"
   ]
  },
  {
   "cell_type": "code",
   "execution_count": 51,
   "metadata": {
    "colab": {},
    "colab_type": "code",
    "id": "SOCMDZeeO3WO"
   },
   "outputs": [
    {
     "data": {
      "text/plain": [
       "3727"
      ]
     },
     "execution_count": 51,
     "metadata": {},
     "output_type": "execute_result"
    }
   ],
   "source": [
    "ham_word_counts.num_rows #Number of unique words in ham subject lines"
   ]
  },
  {
   "cell_type": "markdown",
   "metadata": {
    "colab_type": "text",
    "id": "la6U66xjO3WP"
   },
   "source": [
    "There are many more words in the ham subject lines than in the spam subject lines. We need to get one table with the words and counts. This will increase the number of rows for the spam. The built-in join function from the `datascience` package only performs an inner joining. We need to perform an outer join. We cannot determine how to do this with the join function from `datascience` so let's convert the table to pandas dataframes and then perform an outer join, see https://www.shanelynn.ie/merge-join-dataframes-python-pandas-index-1/. By default, pandas repalces missing values with NaN, not a number. We must replace those missing values with 0. Finally, we can convert back to a datascience table."
   ]
  },
  {
   "cell_type": "code",
   "execution_count": 53,
   "metadata": {},
   "outputs": [],
   "source": [
    "# In order to switch from data science to pandas, we need to ensure that the column labels are the same or it will not work\n",
    "spam_word_counts = (spam_word_counts.relabel(0, 'Words').relabel(1, 'Count'))\n",
    "ham_word_counts = (ham_word_counts.relabel(0, 'Words').relabel(1, 'Count'))"
   ]
  },
  {
   "cell_type": "code",
   "execution_count": 54,
   "metadata": {
    "colab": {},
    "colab_type": "code",
    "id": "yRzbTuLDO3WR"
   },
   "outputs": [
    {
     "data": {
      "text/html": [
       "<table border=\"1\" class=\"dataframe\">\n",
       "    <thead>\n",
       "        <tr>\n",
       "            <th>Words</th> <th>Count</th> <th>Ham Subject Line Frequency</th> <th>Spam Subject Line Frequency</th>\n",
       "        </tr>\n",
       "    </thead>\n",
       "    <tbody>\n",
       "        <tr>\n",
       "            <td>'apt      </td> <td>3    </td> <td>0.00107143                </td> <td>0                          </td>\n",
       "        </tr>\n",
       "        <tr>\n",
       "            <td>'betrayal'</td> <td>1    </td> <td>0.000357143               </td> <td>0                          </td>\n",
       "        </tr>\n",
       "        <tr>\n",
       "            <td>'boost    </td> <td>1    </td> <td>0.000357143               </td> <td>0                          </td>\n",
       "        </tr>\n",
       "        <tr>\n",
       "            <td>'boosts   </td> <td>1    </td> <td>0.000357143               </td> <td>0                          </td>\n",
       "        </tr>\n",
       "        <tr>\n",
       "            <td>'bust'    </td> <td>1    </td> <td>0.000357143               </td> <td>0                          </td>\n",
       "        </tr>\n",
       "        <tr>\n",
       "            <td>'cancer   </td> <td>1    </td> <td>0.000357143               </td> <td>0                          </td>\n",
       "        </tr>\n",
       "        <tr>\n",
       "            <td>'could    </td> <td>1    </td> <td>0.000357143               </td> <td>0                          </td>\n",
       "        </tr>\n",
       "        <tr>\n",
       "            <td>'em       </td> <td>1    </td> <td>0.000357143               </td> <td>0                          </td>\n",
       "        </tr>\n",
       "        <tr>\n",
       "            <td>'face     </td> <td>1    </td> <td>0.000357143               </td> <td>0                          </td>\n",
       "        </tr>\n",
       "        <tr>\n",
       "            <td>'flexible'</td> <td>1    </td> <td>0.000357143               </td> <td>0                          </td>\n",
       "        </tr>\n",
       "    </tbody>\n",
       "</table>\n",
       "<p>... (4742 rows omitted)</p>"
      ],
      "text/plain": [
       "Words      | Count | Ham Subject Line Frequency | Spam Subject Line Frequency\n",
       "'apt       | 3     | 0.00107143                 | 0\n",
       "'betrayal' | 1     | 0.000357143                | 0\n",
       "'boost     | 1     | 0.000357143                | 0\n",
       "'boosts    | 1     | 0.000357143                | 0\n",
       "'bust'     | 1     | 0.000357143                | 0\n",
       "'cancer    | 1     | 0.000357143                | 0\n",
       "'could     | 1     | 0.000357143                | 0\n",
       "'em        | 1     | 0.000357143                | 0\n",
       "'face      | 1     | 0.000357143                | 0\n",
       "'flexible' | 1     | 0.000357143                | 0\n",
       "... (4742 rows omitted)"
      ]
     },
     "execution_count": 54,
     "metadata": {},
     "output_type": "execute_result"
    }
   ],
   "source": [
    "# Execute this cell\n",
    "# Convert data.science table to pandas dataframe\n",
    "word_counts = pd.merge(ham_word_counts.to_df(),spam_word_counts.to_df(),how=\"outer\").fillna(0)\n",
    "word_counts = ds.Table.from_df(word_counts)\n",
    "word_counts"
   ]
  },
  {
   "cell_type": "markdown",
   "metadata": {
    "colab_type": "text",
    "id": "-_ap0LZ9O3WT"
   },
   "source": [
    "Let's visualize the results by looking at the most common words in the ham subject lines."
   ]
  },
  {
   "cell_type": "code",
   "execution_count": 60,
   "metadata": {
    "colab": {},
    "colab_type": "code",
    "id": "3omrvtY8O3WU"
   },
   "outputs": [
    {
     "data": {
      "image/png": "[encoded data removed]",
      "text/plain": [
       "<Figure size 432x540 with 1 Axes>"
      ]
     },
     "metadata": {},
     "output_type": "display_data"
    }
   ],
   "source": [
    "# Execute this cell\n",
    "word_counts.take(np.arange(15)).select('Words','Ham Subject Line Frequency','Spam Subject Line Frequency').barh('Words')"
   ]
  },
  {
   "cell_type": "markdown",
   "metadata": {
    "colab_type": "text",
    "id": "cryR88a_O3WW"
   },
   "source": [
    "Now, create the same visualization but with the most common words in the spam emails. "
   ]
  },
  {
   "cell_type": "code",
   "execution_count": 58,
   "metadata": {
    "colab": {},
    "colab_type": "code",
    "id": "CClPh4fBO3WX"
   },
   "outputs": [
    {
     "data": {
      "image/png": "[encoded data removed]",
      "text/plain": [
       "<Figure size 432x540 with 1 Axes>"
      ]
     },
     "metadata": {},
     "output_type": "display_data"
    }
   ],
   "source": [
    "word_counts.sort('Spam Subject Line Frequency', descending = True).take(np.arange(15)).select('Words', 'Ham Subject Line Frequency','Spam Subject Line Frequency').barh(0)"
   ]
  },
  {
   "cell_type": "markdown",
   "metadata": {
    "colab_type": "text",
    "id": "fROdiGyYO3WZ"
   },
   "source": [
    "What do you notice about words that appear in spam and ham e-mail subject lines? "
   ]
  },
  {
   "cell_type": "markdown",
   "metadata": {
    "colab_type": "text",
    "id": "eDyO67w0O3Wa"
   },
   "source": [
    "The words that are most frequent in the Ham Subject lines are actual common words in the English language. However, some of the actual English words that appear most frequently in the Spam subject lines are buzz words that grab people's attention and makes them want to open up the email based on the subject line. Examples of these words are free, best, rates, home, money, low, and sale. Also, the frequency of spam words, at least in the top 15, is much higher than the frequncy of the ham words by a tenth or a 100th of a decimal. "
   ]
  },
  {
   "cell_type": "markdown",
   "metadata": {
    "colab_type": "text",
    "id": "00vbKIAnO3Wb"
   },
   "source": [
    "#### References\n"
   ]
  },
  {
   "cell_type": "markdown",
   "metadata": {
    "colab_type": "text",
    "id": "4CijydKJO3Wc"
   },
   "source": [
    "https://www.analyticsvidhya.com/blog/2017/09/naive-bayes-explained/\n",
    "http://localhost:8888/notebooks/Documents/Classes/Books/Stats/Python%20Data%20Science%20Handbook/PythonDataScienceHandbook-master/notebooks/05.05-Naive-Bayes.ipynb"
   ]
  }
 ],
 "metadata": {
  "colab": {
   "name": "Project Math 377 Fall 18 Exploration (Block 1).ipynb",
   "provenance": [],
   "version": "0.3.2"
  },
  "kernelspec": {
   "display_name": "Python 3",
   "language": "python",
   "name": "python3"
  },
  "language_info": {
   "codemirror_mode": {
    "name": "ipython",
    "version": 3
   },
   "file_extension": ".py",
   "mimetype": "text/x-python",
   "name": "python",
   "nbconvert_exporter": "python",
   "pygments_lexer": "ipython3",
   "version": "3.6.5"
  }
 },
 "nbformat": 4,
 "nbformat_minor": 1
}
